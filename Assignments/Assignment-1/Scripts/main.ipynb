{
 "cells": [
  {
   "cell_type": "code",
   "execution_count": null,
   "id": "cda33d43",
   "metadata": {},
   "outputs": [],
   "source": [
    "# Implement preprocessing methods in data_preprocessor.py to clean and preprocess a messy dataset.\n",
    "# ● Import the completed script into a Jupyter notebook to test your preprocessing methods and evaluate the impact on model performance.\n",
    "# ● Use your GitHub repository to organize and submit your work.\n",
    "# ● Answer refl ection questions to demonstrate your understanding of the preprocessing pipeline and its implications."
   ]
  },
  {
   "cell_type": "code",
   "execution_count": 1,
   "id": "c63f87a1",
   "metadata": {},
   "outputs": [
    {
     "name": "stdout",
     "output_type": "stream",
     "text": [
      "Missing values:\n",
      " survived         0\n",
      "deck           627\n",
      "embarked         2\n",
      "pclass          78\n",
      "embark_town      2\n",
      "sex              0\n",
      "adult_male       0\n",
      "who              0\n",
      "wspd           122\n",
      "lfwa           122\n",
      "class            0\n",
      "tprc             0\n",
      "sibsp           73\n",
      "age            196\n",
      "alone            0\n",
      "fare            91\n",
      "parch           89\n",
      "dtype: int64\n",
      "Cleaned data saved as 'cleaned_data.csv'\n",
      "Cleaned data preview:\n",
      "    survived deck embarked    pclass  embark_town     sex  adult_male    who  \\\n",
      "0         0    C        S  3.000000  Southampton    male        True    man   \n",
      "1         1    C        C  1.000000    Cherbourg  female       False  woman   \n",
      "2         1    C        S  3.000000  Southampton  female       False  woman   \n",
      "3         1    C        S  2.305177  Southampton  female       False  woman   \n",
      "4         0    C        S  3.000000  Southampton    male        True    man   \n",
      "\n",
      "    wspd  lfwa  class      tprc     sibsp   age  alone     fare     parch  \n",
      "0   22.0  44.0  Third   23.7500  1.000000  22.0  False   7.2500  0.000000  \n",
      "1   38.0  76.0  First  215.8499  1.000000  38.0  False  71.2833  0.000000  \n",
      "2   26.0  52.0  Third   25.7750  0.000000  26.0   True   7.9250  0.000000  \n",
      "3   45.0  70.0  First  161.3000  0.508796  35.0  False  53.1000  0.000000  \n",
      "4  235.0  70.0  Third   26.1500  0.000000  35.0   True   8.0500  0.395574  \n"
     ]
    },
    {
     "name": "stderr",
     "output_type": "stream",
     "text": [
      "c:\\Users\\igweg\\OneDrive\\Desktop\\Bioinformatics\\BNF-5507-Materials\\Assignments\\Assignment-1\\Scripts\\data_preprocessor.py:32: FutureWarning: A value is trying to be set on a copy of a DataFrame or Series through chained assignment using an inplace method.\n",
      "The behavior will change in pandas 3.0. This inplace method will never work because the intermediate object on which we are setting values always behaves as a copy.\n",
      "\n",
      "For example, when doing 'df[col].method(value, inplace=True)', try using 'df.method({col: value}, inplace=True)' or df[col] = df[col].method(value) instead, to perform the operation inplace on the original object.\n",
      "\n",
      "\n",
      "  data[col].fillna(data[col].mode()[0], inplace=True)\n"
     ]
    }
   ],
   "source": [
    "import pandas as pd\n",
    "from data_preprocessor import process  \n",
    "\n",
    "data = pd.read_csv('../Data/messy_data.csv')\n",
    "cleaned_data = process(data)  "
   ]
  },
  {
   "cell_type": "code",
   "execution_count": null,
   "id": "b0aed917",
   "metadata": {},
   "outputs": [],
   "source": [
    "preprocessor = DataPreprocessor(data)\n",
    "cleaned_data = preprocessor.process()"
   ]
  },
  {
   "cell_type": "code",
   "execution_count": null,
   "id": "9933bb77",
   "metadata": {},
   "outputs": [],
   "source": [
    "cleaned_data.to_csv('../Data/cleaned_data.csv', index=False)"
   ]
  }
 ],
 "metadata": {
  "kernelspec": {
   "display_name": "default",
   "language": "python",
   "name": "python3"
  },
  "language_info": {
   "codemirror_mode": {
    "name": "ipython",
    "version": 3
   },
   "file_extension": ".py",
   "mimetype": "text/x-python",
   "name": "python",
   "nbconvert_exporter": "python",
   "pygments_lexer": "ipython3",
   "version": "3.13.3"
  }
 },
 "nbformat": 4,
 "nbformat_minor": 5
}
