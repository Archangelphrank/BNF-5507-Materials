{
 "cells": [
  {
   "cell_type": "code",
   "execution_count": null,
   "id": "cda33d43",
   "metadata": {},
   "outputs": [],
   "source": [
    "# Implement preprocessing methods in data_preprocessor.py to clean and preprocess a messy dataset.\n",
    "# ● Import the completed script into a Jupyter notebook to test your preprocessing methods and evaluate the impact on model performance.\n",
    "# ● Use your GitHub repository to organize and submit your work.\n",
    "# ● Answer refl ection questions to demonstrate your understanding of the preprocessing pipeline and its implications."
   ]
  },
  {
   "cell_type": "code",
   "execution_count": 1,
   "id": "4c08fa87",
   "metadata": {},
   "outputs": [
    {
     "name": "stdout",
     "output_type": "stream",
     "text": [
      "   survived deck embarked  pclass  embark_town     sex  adult_male    who  \\\n",
      "0         0  NaN        S     3.0  Southampton    male        True    man   \n",
      "1         1    C        C     1.0    Cherbourg  female       False  woman   \n",
      "2         1  NaN        S     3.0  Southampton  female       False  woman   \n",
      "3         1    C        S     NaN  Southampton  female       False  woman   \n",
      "4         0  NaN        S     3.0  Southampton    male        True    man   \n",
      "\n",
      "    wspd  lfwa  class      tprc  sibsp   age  alone     fare  parch  \n",
      "0   22.0  44.0  Third   23.7500    1.0  22.0  False   7.2500    0.0  \n",
      "1   38.0  76.0  First  215.8499    1.0  38.0  False  71.2833    0.0  \n",
      "2   26.0  52.0  Third   25.7750    0.0  26.0   True   7.9250    0.0  \n",
      "3   45.0  70.0  First  161.3000    NaN  35.0  False  53.1000    0.0  \n",
      "4  235.0  70.0  Third   26.1500    0.0  35.0   True   8.0500    NaN  \n",
      "<class 'pandas.core.frame.DataFrame'>\n",
      "RangeIndex: 1158 entries, 0 to 1157\n",
      "Data columns (total 17 columns):\n",
      " #   Column       Non-Null Count  Dtype  \n",
      "---  ------       --------------  -----  \n",
      " 0   survived     1158 non-null   int64  \n",
      " 1   deck         273 non-null    object \n",
      " 2   embarked     1155 non-null   object \n",
      " 3   pclass       1051 non-null   float64\n",
      " 4   embark_town  1155 non-null   object \n",
      " 5   sex          1158 non-null   object \n",
      " 6   adult_male   1158 non-null   bool   \n",
      " 7   who          1158 non-null   object \n",
      " 8   wspd         929 non-null    float64\n",
      " 9   lfwa         929 non-null    float64\n",
      " 10  class        1158 non-null   object \n",
      " 11  tprc         1158 non-null   float64\n",
      " 12  sibsp        1044 non-null   float64\n",
      " 13  age          829 non-null    float64\n",
      " 14  alone        1158 non-null   bool   \n",
      " 15  fare         1036 non-null   float64\n",
      " 16  parch        1042 non-null   float64\n",
      "dtypes: bool(2), float64(8), int64(1), object(6)\n",
      "memory usage: 138.1+ KB\n",
      "None\n"
     ]
    }
   ],
   "source": [
    "import pandas as pd\n",
    "import matplotlib.pyplot as plt\n",
    "import seaborn as sns\n",
    "from data_preprocessor import DataPreprocessor\n",
    "\n",
    "# Load dataset\n",
    "path_to_file = r\"C:\\Users\\igweg\\OneDrive\\Desktop\\Bioinformatics\\BNF-5507-Materials\\Assignments\\Assignment-1\\Data\\messy_data.csv\"\n",
    "data = pd.read_csv(path_to_file)\n",
    "\n",
    "# Display initial dataset overview\n",
    "print(data.head())\n",
    "print(data.info())\n",
    "\n"
   ]
  },
  {
   "cell_type": "code",
   "execution_count": 2,
   "id": "5adb9e10",
   "metadata": {},
   "outputs": [
    {
     "name": "stdout",
     "output_type": "stream",
     "text": [
      "Class initialized successfully!\n"
     ]
    }
   ],
   "source": [
    "from data_preprocessor import DataPreprocessor\n",
    "\n",
    "preprocessor = DataPreprocessor()\n",
    "print(\"Class initialized successfully!\")"
   ]
  },
  {
   "cell_type": "markdown",
   "id": "3ec97cf1",
   "metadata": {},
   "source": []
  },
  {
   "cell_type": "code",
   "execution_count": 3,
   "id": "e96a4bbf",
   "metadata": {},
   "outputs": [
    {
     "name": "stderr",
     "output_type": "stream",
     "text": [
      "c:\\Users\\igweg\\OneDrive\\Desktop\\Bioinformatics\\BNF-5507-Materials\\Assignments\\Assignment-1\\Scripts\\data_preprocessor.py:16: SettingWithCopyWarning: \n",
      "A value is trying to be set on a copy of a slice from a DataFrame.\n",
      "Try using .loc[row_indexer,col_indexer] = value instead\n",
      "\n",
      "See the caveats in the documentation: https://pandas.pydata.org/pandas-docs/stable/user_guide/indexing.html#returning-a-view-versus-a-copy\n",
      "  df['sex'] = df['sex'].astype(str).str.strip().str.lower()\n",
      "c:\\Users\\igweg\\OneDrive\\Desktop\\Bioinformatics\\BNF-5507-Materials\\Assignments\\Assignment-1\\Scripts\\data_preprocessor.py:19: SettingWithCopyWarning: \n",
      "A value is trying to be set on a copy of a slice from a DataFrame.\n",
      "Try using .loc[row_indexer,col_indexer] = value instead\n",
      "\n",
      "See the caveats in the documentation: https://pandas.pydata.org/pandas-docs/stable/user_guide/indexing.html#returning-a-view-versus-a-copy\n",
      "  df['sex'] = df['sex'].replace({\n",
      "c:\\Users\\igweg\\OneDrive\\Desktop\\Bioinformatics\\BNF-5507-Materials\\Assignments\\Assignment-1\\Scripts\\data_preprocessor.py:33: FutureWarning: A value is trying to be set on a copy of a DataFrame or Series through chained assignment using an inplace method.\n",
      "The behavior will change in pandas 3.0. This inplace method will never work because the intermediate object on which we are setting values always behaves as a copy.\n",
      "\n",
      "For example, when doing 'df[col].method(value, inplace=True)', try using 'df.method({col: value}, inplace=True)' or df[col] = df[col].method(value) instead, to perform the operation inplace on the original object.\n",
      "\n",
      "\n",
      "  df['age'].fillna(df['age'].mean(), inplace=True)\n",
      "c:\\Users\\igweg\\OneDrive\\Desktop\\Bioinformatics\\BNF-5507-Materials\\Assignments\\Assignment-1\\Scripts\\data_preprocessor.py:33: SettingWithCopyWarning: \n",
      "A value is trying to be set on a copy of a slice from a DataFrame\n",
      "\n",
      "See the caveats in the documentation: https://pandas.pydata.org/pandas-docs/stable/user_guide/indexing.html#returning-a-view-versus-a-copy\n",
      "  df['age'].fillna(df['age'].mean(), inplace=True)\n",
      "c:\\Users\\igweg\\OneDrive\\Desktop\\Bioinformatics\\BNF-5507-Materials\\Assignments\\Assignment-1\\Scripts\\data_preprocessor.py:34: FutureWarning: A value is trying to be set on a copy of a DataFrame or Series through chained assignment using an inplace method.\n",
      "The behavior will change in pandas 3.0. This inplace method will never work because the intermediate object on which we are setting values always behaves as a copy.\n",
      "\n",
      "For example, when doing 'df[col].method(value, inplace=True)', try using 'df.method({col: value}, inplace=True)' or df[col] = df[col].method(value) instead, to perform the operation inplace on the original object.\n",
      "\n",
      "\n",
      "  df['embarked'].fillna(df['embarked'].mode()[0], inplace=True)\n",
      "c:\\Users\\igweg\\OneDrive\\Desktop\\Bioinformatics\\BNF-5507-Materials\\Assignments\\Assignment-1\\Scripts\\data_preprocessor.py:34: SettingWithCopyWarning: \n",
      "A value is trying to be set on a copy of a slice from a DataFrame\n",
      "\n",
      "See the caveats in the documentation: https://pandas.pydata.org/pandas-docs/stable/user_guide/indexing.html#returning-a-view-versus-a-copy\n",
      "  df['embarked'].fillna(df['embarked'].mode()[0], inplace=True)\n",
      "c:\\Users\\igweg\\OneDrive\\Desktop\\Bioinformatics\\BNF-5507-Materials\\Assignments\\Assignment-1\\Scripts\\data_preprocessor.py:35: SettingWithCopyWarning: \n",
      "A value is trying to be set on a copy of a slice from a DataFrame\n",
      "\n",
      "See the caveats in the documentation: https://pandas.pydata.org/pandas-docs/stable/user_guide/indexing.html#returning-a-view-versus-a-copy\n",
      "  df.dropna(inplace=True)\n",
      "c:\\Users\\igweg\\OneDrive\\Desktop\\Bioinformatics\\BNF-5507-Materials\\Assignments\\Assignment-1\\Scripts\\data_preprocessor.py:41: SettingWithCopyWarning: \n",
      "A value is trying to be set on a copy of a slice from a DataFrame.\n",
      "Try using .loc[row_indexer,col_indexer] = value instead\n",
      "\n",
      "See the caveats in the documentation: https://pandas.pydata.org/pandas-docs/stable/user_guide/indexing.html#returning-a-view-versus-a-copy\n",
      "  df['sex'] = le.fit_transform(df['sex'])\n",
      "c:\\Users\\igweg\\OneDrive\\Desktop\\Bioinformatics\\BNF-5507-Materials\\Assignments\\Assignment-1\\Scripts\\data_preprocessor.py:42: SettingWithCopyWarning: \n",
      "A value is trying to be set on a copy of a slice from a DataFrame.\n",
      "Try using .loc[row_indexer,col_indexer] = value instead\n",
      "\n",
      "See the caveats in the documentation: https://pandas.pydata.org/pandas-docs/stable/user_guide/indexing.html#returning-a-view-versus-a-copy\n",
      "  df['embarked'] = le.fit_transform(df['embarked'])\n"
     ]
    }
   ],
   "source": [
    "# Apply preprocessing\n",
    "preprocessor = DataPreprocessor()\n",
    "cleaned_data = preprocessor.transform(data)\n",
    "\n"
   ]
  },
  {
   "cell_type": "code",
   "execution_count": 4,
   "id": "771cd656",
   "metadata": {},
   "outputs": [],
   "source": [
    "# Save cleaned data\n",
    "cleaned_data.to_csv('cleaned_data.csv', index=False)\n"
   ]
  },
  {
   "cell_type": "code",
   "execution_count": 8,
   "id": "7b31fba4",
   "metadata": {},
   "outputs": [
    {
     "data": {
      "image/png": "[encoded data removed]",
      "text/plain": [
       "<Figure size 1000x600 with 1 Axes>"
      ]
     },
     "metadata": {},
     "output_type": "display_data"
    },
    {
     "data": {
      "image/png": "[encoded data removed]",
      "text/plain": [
       "<Figure size 1000x600 with 1 Axes>"
      ]
     },
     "metadata": {},
     "output_type": "display_data"
    }
   ],
   "source": [
    "\n",
    "# Visualization: Histogram of Age\n",
    "plt.figure(figsize=(10,6))\n",
    "sns.histplot(cleaned_data['age'], bins=30, kde=True)\n",
    "plt.title('Age Distribution')\n",
    "plt.xlabel('Age')\n",
    "plt.ylabel('Frequency')\n",
    "plt.show()\n",
    "# Bar plot of survival by sex\n",
    "plt.figure(figsize=(10, 6))\n",
    "sns.barplot(x='sex', y='survived', data=cleaned_data)\n",
    "plt.title('Survival by Sex')\n",
    "plt.xlabel('Sex')\n",
    "plt.ylabel('Survival Rate')\n",
    "plt.show()\n",
    "\n"
   ]
  },
  {
   "cell_type": "code",
   "execution_count": 9,
   "id": "387f7173",
   "metadata": {},
   "outputs": [
    {
     "name": "stdout",
     "output_type": "stream",
     "text": [
      "\n",
      "Cleaned dataset saved successfully!\n",
      "<class 'pandas.core.frame.DataFrame'>\n",
      "Index: 118 entries, 1 to 887\n",
      "Data columns (total 17 columns):\n",
      " #   Column       Non-Null Count  Dtype  \n",
      "---  ------       --------------  -----  \n",
      " 0   survived     118 non-null    int64  \n",
      " 1   deck         118 non-null    object \n",
      " 2   embarked     118 non-null    int64  \n",
      " 3   pclass       118 non-null    float64\n",
      " 4   embark_town  118 non-null    object \n",
      " 5   sex          118 non-null    int64  \n",
      " 6   adult_male   118 non-null    bool   \n",
      " 7   who          118 non-null    object \n",
      " 8   wspd         118 non-null    float64\n",
      " 9   lfwa         118 non-null    float64\n",
      " 10  class        118 non-null    object \n",
      " 11  tprc         118 non-null    float64\n",
      " 12  sibsp        118 non-null    float64\n",
      " 13  age          118 non-null    float64\n",
      " 14  alone        118 non-null    bool   \n",
      " 15  fare         118 non-null    float64\n",
      " 16  parch        118 non-null    float64\n",
      "dtypes: bool(2), float64(8), int64(3), object(4)\n",
      "memory usage: 15.0+ KB\n",
      "None\n",
      "    survived deck  embarked  pclass  embark_town  sex  adult_male    who  \\\n",
      "1          1    C         0     1.0    Cherbourg    0       False  woman   \n",
      "6          0    E         2     1.0  Southampton    1        True    man   \n",
      "10         1    G         2     3.0  Southampton    0       False  child   \n",
      "21         1    D         2     2.0  Southampton    1        True    man   \n",
      "23         1    A         2     1.0  Southampton    1        True    man   \n",
      "\n",
      "    wspd   lfwa   class      tprc  sibsp   age  alone     fare  parch  \n",
      "1   38.0   76.0   First  215.8499    1.0  38.0  False  71.2833    0.0  \n",
      "6   54.0  108.0   First  157.5875    0.0  54.0   True  51.8625    0.0  \n",
      "10   4.0    8.0   Third   52.1000    1.0   4.0  False  16.7000    1.0  \n",
      "21  34.0   68.0  Second   41.0000    0.0  34.0   True  13.0000    0.0  \n",
      "23  28.0   56.0   First  108.5000    0.0  28.0   True  35.5000    0.0  \n"
     ]
    }
   ],
   "source": [
    "#display information about the cleaned dataset\n",
    "\n",
    "print(\"\\nCleaned dataset saved successfully!\")\n",
    "print(cleaned_data.info())\n",
    "print(cleaned_data.head())\n"
   ]
  },
  {
   "cell_type": "code",
   "execution_count": 10,
   "id": "c1935b3c",
   "metadata": {},
   "outputs": [
    {
     "name": "stdout",
     "output_type": "stream",
     "text": [
      "Original Dataset Summary:\n",
      "          survived       pclass        wspd        lfwa         tprc  \\\n",
      "count  1158.000000  1051.000000  929.000000  929.000000  1158.000000   \n",
      "mean      0.383420     2.295909   64.715823   60.023681   100.617063   \n",
      "std       0.486429     0.843447   74.000976   28.264189   150.929966   \n",
      "min       0.000000     1.000000    0.670000    0.840000     2.000000   \n",
      "25%       0.000000     1.000000   24.000000   42.000000    25.687400   \n",
      "50%       0.000000     3.000000   35.000000   58.000000    45.362600   \n",
      "75%       1.000000     3.000000   53.000000   78.000000    95.825000   \n",
      "max       1.000000     3.000000  266.000000  160.000000  1538.987600   \n",
      "\n",
      "             sibsp         age         fare        parch  \n",
      "count  1044.000000  829.000000  1036.000000  1042.000000  \n",
      "mean      0.513410   30.289312    32.116312     0.360845  \n",
      "std       1.119346   14.127279    48.310426     0.785509  \n",
      "min       0.000000    0.420000     0.000000     0.000000  \n",
      "25%       0.000000   21.000000     7.895800     0.000000  \n",
      "50%       0.000000   29.000000    14.108300     0.000000  \n",
      "75%       1.000000   39.000000    31.000000     0.000000  \n",
      "max       8.000000   74.000000   512.329200     6.000000  \n",
      "Cleaned Dataset Summary:\n",
      "         survived    embarked      pclass         sex        wspd        lfwa  \\\n",
      "count  118.000000  118.000000  118.000000  118.000000  118.000000  118.000000   \n",
      "mean     0.703390    1.279661    1.220339    0.508475   71.072034   70.618644   \n",
      "std      0.458711    0.959751    0.541217    0.502060   74.739041   30.741525   \n",
      "min      0.000000    0.000000    1.000000    0.000000    3.000000    4.000000   \n",
      "25%      0.000000    0.000000    1.000000    0.000000   29.000000   48.000000   \n",
      "50%      1.000000    2.000000    1.000000    1.000000   40.000000   72.000000   \n",
      "75%      1.000000    2.000000    1.000000    1.000000   60.750000   93.500000   \n",
      "max      1.000000    2.000000    3.000000    1.000000  251.000000  160.000000   \n",
      "\n",
      "             tprc       sibsp         age        fare       parch  \n",
      "count  118.000000  118.000000  118.000000  118.000000  118.000000  \n",
      "mean   182.247203    0.440678   35.003863   72.818999    0.440678  \n",
      "std    119.296162    0.547604   14.296902   67.127574    0.757215  \n",
      "min      2.000000    0.000000    2.000000    0.000000    0.000000  \n",
      "25%     88.625000    0.000000   24.000000   28.875000    0.000000  \n",
      "50%    161.300000    0.000000   34.000000   55.900000    0.000000  \n",
      "75%    250.499900    1.000000   45.875000   89.125000    1.000000  \n",
      "max    496.600100    2.000000   71.000000  512.329200    4.000000  \n"
     ]
    }
   ],
   "source": [
    "print(\"Original Dataset Summary:\")\n",
    "print(data.describe())  \n",
    "\n",
    "print(\"Cleaned Dataset Summary:\")\n",
    "print(cleaned_data.describe())"
   ]
  }
 ],
 "metadata": {
  "kernelspec": {
   "display_name": "default",
   "language": "python",
   "name": "python3"
  },
  "language_info": {
   "codemirror_mode": {
    "name": "ipython",
    "version": 3
   },
   "file_extension": ".py",
   "mimetype": "text/x-python",
   "name": "python",
   "nbconvert_exporter": "python",
   "pygments_lexer": "ipython3",
   "version": "3.13.3"
  }
 },
 "nbformat": 4,
 "nbformat_minor": 5
}
