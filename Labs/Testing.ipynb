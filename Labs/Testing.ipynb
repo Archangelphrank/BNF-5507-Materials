{
 "cells": [
  {
   "cell_type": "code",
   "execution_count": null,
   "id": "48994be5",
   "metadata": {},
   "outputs": [],
   "source": [
    "#This is a testing notebook "
   ]
  }
 ],
 "metadata": {
  "language_info": {
   "name": "python"
  }
 },
 "nbformat": 4,
 "nbformat_minor": 5
}
