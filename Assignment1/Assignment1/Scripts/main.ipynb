{
 "cells": [
  {
   "cell_type": "code",
   "execution_count": null,
   "metadata": {},
   "outputs": [
    {
     "name": "stdout",
     "output_type": "stream",
     "text": [
      "Accuracy: 0.8\n"
     ]
    }
   ],
   "source": [
    "# Import necessary modules\n",
    "import data_preprocessor as dp\n",
    "import pandas as pd\n",
    "from sklearn.linear_model import LogisticRegression\n",
    "from sklearn.metrics import accuracy_score\n",
    "\n",
    "# 1. Load the dataset\n",
    "messy_data = pd.read_csv('../Data/messy_data.csv')\n",
    "clean_data = messy_data.copy()\n",
    "# print(clean_data.head())\n",
    "\n",
    "# # 2. Preprocess the data\n",
    "# clean_data = dp.impute_missing_values(clean_data, strategy='mean')\n",
    "# print(type(clean_data))  # Should output <class 'pandas.DataFrame'>\n",
    "# clean_data = dp.remove_duplicates(clean_data)\n",
    "# print(clean_data.shape)  # Should output the shape of the cleaned DataFrame\n",
    "# clean_data = dp.normalize_data(clean_data)\n",
    "# print(clean_data.head())  # Should output the statistical summary of the cleaned DataFrame\n",
    "# clean_data = dp.remove_redundant_features(clean_data)\n",
    "# print(clean_data.columns)  # Should output the columns of the cleaned DataFrame\n",
    "\n",
    "# # 3. Save the cleaned dataset\n",
    "# # clean_data.to_csv('../Data/clean_data.csv', index=False)\n",
    "\n",
    "# # 4. Train and evaluate the model\n",
    "from data_preprocessor import simple_model  \n",
    "simple_model(clean_data)"
   ]
  },
  {
   "cell_type": "code",
   "execution_count": 1,
   "metadata": {},
   "outputs": [
    {
     "name": "stdout",
     "output_type": "stream",
     "text": [
      "<class 'pandas.core.frame.DataFrame'>\n",
      "          A    B\n",
      "0  1.000000  3.0\n",
      "1  2.000000  2.0\n",
      "2  2.333333  3.0\n",
      "3  4.000000  4.0\n"
     ]
    }
   ],
   "source": [
    "import pandas as pd\n",
    "import data_preprocessor as dp  # Ensure this module is correctly imported\n",
    "\n",
    "# Create a small test dataset\n",
    "df_test = pd.DataFrame({'A': [1, 2, None, 4], 'B': [None, 2, 3, 4]})\n",
    "\n",
    "# Apply the function and print the results\n",
    "df_imputed = dp.impute_missing_values(df_test, strategy='mean')\n",
    "print(type(df_imputed))  # Should print: <class 'pandas.DataFrame'>\n",
    "print(df_imputed.head())  # Check if missing values are correctly filled"
   ]
  }
 ],
 "metadata": {
  "kernelspec": {
   "display_name": "default",
   "language": "python",
   "name": "python3"
  },
  "language_info": {
   "codemirror_mode": {
    "name": "ipython",
    "version": 3
   },
   "file_extension": ".py",
   "mimetype": "text/x-python",
   "name": "python",
   "nbconvert_exporter": "python",
   "pygments_lexer": "ipython3",
   "version": "3.13.3"
  }
 },
 "nbformat": 4,
 "nbformat_minor": 2
}
